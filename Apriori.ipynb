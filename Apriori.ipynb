{
 "cells": [
  {
   "cell_type": "code",
   "execution_count": null,
   "metadata": {},
   "outputs": [],
   "source": [
    "#关联分析  关联规则    （应用：个性推荐）\n",
    "\n",
    "#Apriori算法\n",
    "#支持度：几样事件同时发生的概率（A与B同时发生的概率）  Support(A=>B) = P(A and B)\n",
    "#置信度：若A发生，B发生的概率     Confidence(A=>B) = P(B|A)\n",
    "\n",
    "#Apriori算法的实现\n",
    "# 1、阈值：最小支持度，最小置信度\n",
    "# 2、计算\n",
    "# Support(A=>B) = (A,B事件同时发生的数量) / (事件总数量)\n",
    "#               = Support_count(A and B) / Total_count(A)\n",
    "# Confidence(A=>B) = P(B|A) = Support(A and B) / Support(A) \n",
    "#                   = Support_count(A and B) / Support(A) \n",
    "# 3、筛选\n",
    "# 4、继续计算"
   ]
  },
  {
   "cell_type": "code",
   "execution_count": null,
   "metadata": {},
   "outputs": [],
   "source": [
    "#学员购买课程的关联性"
   ]
  },
  {
   "cell_type": "code",
   "execution_count": 1,
   "metadata": {},
   "outputs": [
    {
     "name": "stdout",
     "output_type": "stream",
     "text": [
      "   Java  PHP  Python爬虫  Spark  数据分析  机器学习\n",
      "0   1.0  1.0       1.0    1.0   1.0   1.0\n",
      "1   1.0  1.0       0.0    1.0   0.0   1.0\n",
      "2   0.0  0.0       1.0    0.0   0.0   0.0\n",
      "3   0.0  0.0       1.0    0.0   1.0   0.0\n",
      "4   0.0  0.0       1.0    0.0   1.0   1.0\n",
      "5   0.0  0.0       0.0    0.0   1.0   0.0\n",
      "6   0.0  0.0       1.0    0.0   0.0   1.0\n",
      "7   1.0  0.0       1.0    1.0   0.0   0.0\n",
      "8   1.0  1.0       0.0    0.0   1.0   0.0\n",
      "9   0.0  0.0       1.0    0.0   0.0   1.0\n",
      "\n",
      "正在进行第1次搜索...\n",
      "数目：15...\n",
      "\n",
      "正在进行第2次搜索...\n",
      "数目：2...\n",
      "\n",
      "结果为：\n",
      "                   support  confidence\n",
      "PHP---->Java           0.3    1.000000\n",
      "Spark---->Java         0.3    1.000000\n",
      "机器学习---->Python爬虫      0.4    0.800000\n",
      "Java---->PHP           0.3    0.750000\n",
      "Java---->Spark         0.3    0.750000\n",
      "数据分析---->Python爬虫      0.3    0.600000\n",
      "Python爬虫---->机器学习      0.4    0.571429\n"
     ]
    },
    {
     "data": {
      "text/html": [
       "<div>\n",
       "<style scoped>\n",
       "    .dataframe tbody tr th:only-of-type {\n",
       "        vertical-align: middle;\n",
       "    }\n",
       "\n",
       "    .dataframe tbody tr th {\n",
       "        vertical-align: top;\n",
       "    }\n",
       "\n",
       "    .dataframe thead th {\n",
       "        text-align: right;\n",
       "    }\n",
       "</style>\n",
       "<table border=\"1\" class=\"dataframe\">\n",
       "  <thead>\n",
       "    <tr style=\"text-align: right;\">\n",
       "      <th></th>\n",
       "      <th>support</th>\n",
       "      <th>confidence</th>\n",
       "    </tr>\n",
       "  </thead>\n",
       "  <tbody>\n",
       "    <tr>\n",
       "      <th>PHP----&gt;Java</th>\n",
       "      <td>0.3</td>\n",
       "      <td>1.000000</td>\n",
       "    </tr>\n",
       "    <tr>\n",
       "      <th>Spark----&gt;Java</th>\n",
       "      <td>0.3</td>\n",
       "      <td>1.000000</td>\n",
       "    </tr>\n",
       "    <tr>\n",
       "      <th>机器学习----&gt;Python爬虫</th>\n",
       "      <td>0.4</td>\n",
       "      <td>0.800000</td>\n",
       "    </tr>\n",
       "    <tr>\n",
       "      <th>Java----&gt;PHP</th>\n",
       "      <td>0.3</td>\n",
       "      <td>0.750000</td>\n",
       "    </tr>\n",
       "    <tr>\n",
       "      <th>Java----&gt;Spark</th>\n",
       "      <td>0.3</td>\n",
       "      <td>0.750000</td>\n",
       "    </tr>\n",
       "    <tr>\n",
       "      <th>数据分析----&gt;Python爬虫</th>\n",
       "      <td>0.3</td>\n",
       "      <td>0.600000</td>\n",
       "    </tr>\n",
       "    <tr>\n",
       "      <th>Python爬虫----&gt;机器学习</th>\n",
       "      <td>0.4</td>\n",
       "      <td>0.571429</td>\n",
       "    </tr>\n",
       "  </tbody>\n",
       "</table>\n",
       "</div>"
      ],
      "text/plain": [
       "                   support  confidence\n",
       "PHP---->Java           0.3    1.000000\n",
       "Spark---->Java         0.3    1.000000\n",
       "机器学习---->Python爬虫      0.4    0.800000\n",
       "Java---->PHP           0.3    0.750000\n",
       "Java---->Spark         0.3    0.750000\n",
       "数据分析---->Python爬虫      0.3    0.600000\n",
       "Python爬虫---->机器学习      0.4    0.571429"
      ]
     },
     "execution_count": 1,
     "metadata": {},
     "output_type": "execute_result"
    }
   ],
   "source": [
    "import pandas as pds\n",
    "import numpy as np\n",
    "from apriori import *\n",
    "\n",
    "filename = '/Users/peijian/Downloads/施雪资料/python数据分析/源码/lesson_buy.xls'\n",
    "data_frame = pds.read_excel(filename, header=None)\n",
    "#转化数据\n",
    "change = lambda x: pds.Series(1, index=x[pds.notnull(x)]) #有数据转为1\n",
    "mapok = map(change, data_frame.as_matrix())   #转为数组\n",
    "data = pds.DataFrame(list(mapok)).fillna(0)   #没有数据填充0\n",
    "print(data)\n",
    "\n",
    "spt = 0.2\n",
    "cfd = 0.5\n",
    "find_rule(data, spt, cfd, '---->')"
   ]
  }
 ],
 "metadata": {
  "kernelspec": {
   "display_name": "Python 3",
   "language": "python",
   "name": "python3"
  },
  "language_info": {
   "codemirror_mode": {
    "name": "ipython",
    "version": 3
   },
   "file_extension": ".py",
   "mimetype": "text/x-python",
   "name": "python",
   "nbconvert_exporter": "python",
   "pygments_lexer": "ipython3",
   "version": "3.6.4"
  }
 },
 "nbformat": 4,
 "nbformat_minor": 2
}
